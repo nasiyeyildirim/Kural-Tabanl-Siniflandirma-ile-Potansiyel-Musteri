{
 "cells": [
  {
   "cell_type": "markdown",
   "id": "50946004",
   "metadata": {
    "_cell_guid": "b1076dfc-b9ad-4769-8c92-a6c4dae69d19",
    "_uuid": "8f2839f25d086af736a60e9eeb907d3b93b6e0e5",
    "papermill": {
     "duration": 0.006713,
     "end_time": "2022-11-24T19:01:09.642307",
     "exception": false,
     "start_time": "2022-11-24T19:01:09.635594",
     "status": "completed"
    },
    "tags": []
   },
   "source": [
    "# Kural Tabanlı Sınıflandırma ile Potansiyel Müşteri"
   ]
  },
  {
   "cell_type": "markdown",
   "id": "d61db141",
   "metadata": {
    "papermill": {
     "duration": 0.005615,
     "end_time": "2022-11-24T19:01:09.653949",
     "exception": false,
     "start_time": "2022-11-24T19:01:09.648334",
     "status": "completed"
    },
    "tags": []
   },
   "source": [
    "![](https://miro.medium.com/max/1400/1*9SbXX_yYRLFUsHXtf2e59g.png)"
   ]
  },
  {
   "cell_type": "code",
   "execution_count": 1,
   "id": "b6db283c",
   "metadata": {
    "execution": {
     "iopub.execute_input": "2022-11-24T19:01:09.668484Z",
     "iopub.status.busy": "2022-11-24T19:01:09.667890Z",
     "iopub.status.idle": "2022-11-24T19:01:09.688669Z",
     "shell.execute_reply": "2022-11-24T19:01:09.687740Z"
    },
    "papermill": {
     "duration": 0.0303,
     "end_time": "2022-11-24T19:01:09.690746",
     "exception": false,
     "start_time": "2022-11-24T19:01:09.660446",
     "status": "completed"
    },
    "tags": []
   },
   "outputs": [
    {
     "name": "stdout",
     "output_type": "stream",
     "text": [
      "/kaggle/input/personacsv/Kural Tabanlı Sınıflandırma/Kural_Tabanlı_Sınıflandırma.pdf\n",
      "/kaggle/input/personacsv/Kural Tabanlı Sınıflandırma/kural_tabanli_siniflandirma.py\n",
      "/kaggle/input/personacsv/Kural Tabanlı Sınıflandırma/persona.csv\n"
     ]
    }
   ],
   "source": [
    "# This Python 3 environment comes with many helpful analytics libraries installed\n",
    "# It is defined by the kaggle/python Docker image: https://github.com/kaggle/docker-python\n",
    "# For example, here's several helpful packages to load\n",
    "\n",
    "import numpy as np # linear algebra\n",
    "import pandas as pd # data processing, CSV file I/O (e.g. pd.read_csv)\n",
    "\n",
    "# Input data files are available in the read-only \"../input/\" directory\n",
    "# For example, running this (by clicking run or pressing Shift+Enter) will list all files under the input directory\n",
    "\n",
    "import os\n",
    "for dirname, _, filenames in os.walk('/kaggle/input'):\n",
    "    for filename in filenames:\n",
    "        print(os.path.join(dirname, filename))\n",
    "\n",
    "# You can write up to 20GB to the current directory (/kaggle/working/) that gets preserved as output when you create a version using \"Save & Run All\" \n",
    "# You can also write temporary files to /kaggle/temp/, but they won't be saved outside of the current session"
   ]
  },
  {
   "cell_type": "code",
   "execution_count": 2,
   "id": "0a541379",
   "metadata": {
    "execution": {
     "iopub.execute_input": "2022-11-24T19:01:09.706372Z",
     "iopub.status.busy": "2022-11-24T19:01:09.704599Z",
     "iopub.status.idle": "2022-11-24T19:01:09.710504Z",
     "shell.execute_reply": "2022-11-24T19:01:09.709665Z"
    },
    "papermill": {
     "duration": 0.015127,
     "end_time": "2022-11-24T19:01:09.712416",
     "exception": false,
     "start_time": "2022-11-24T19:01:09.697289",
     "status": "completed"
    },
    "tags": []
   },
   "outputs": [],
   "source": [
    "# İş Problemi\n",
    "# Bir oyun şirketi müşterilerinin bazı özelliklerini kullanarak seviye tabanlı (level based) yeni müşteri tanımları (persona)\n",
    "# oluşturmak ve bu yeni müşteri tanımlarına göre segmentler oluşturup bu segmentlere göre yeni gelebilecek müşterilerin şirkete\n",
    "# ortalama ne kadar kazandırabileceğini tahmin etmek istemektedir.\n",
    "# Örneğin: Türkiye’den IOS kullanıcısı olan 25 yaşındaki bir erkek kullanıcının ortalama ne kadar kazandırabileceği belirlenmek isteniyor.\n",
    "# Veri Seti Hikayesi\n",
    "# Persona.csv veri seti uluslararası bir oyun şirketinin sattığı ürünlerin fiyatlarını ve bu ürünleri satın alan kullanıcıların bazı\n",
    "# demografik bilgilerini barındırmaktadır. Veri seti her satış işleminde oluşan kayıtlardan meydana gelmektedir. Bunun anlamı tablo\n",
    "# tekilleştirilmemiştir. Diğer bir ifade ile belirli demografik özelliklere sahip bir kullanıcı birden fazla alışveriş yapmış olabilir.\n",
    "# Price: Müşterinin harcama tutarı\n",
    "# Source: Müşterinin bağlandığı cihaz türü\n",
    "# Sex: Müşterinin cinsiyeti\n",
    "# Country: Müşterinin ülkesi\n",
    "# Age: Müşterinin yaşı\n",
    "\n",
    "\n"
   ]
  },
  {
   "cell_type": "markdown",
   "id": "fb5c7a98",
   "metadata": {
    "papermill": {
     "duration": 0.005907,
     "end_time": "2022-11-24T19:01:09.724582",
     "exception": false,
     "start_time": "2022-11-24T19:01:09.718675",
     "status": "completed"
    },
    "tags": []
   },
   "source": [
    "## PROJE GÖREVLERİ"
   ]
  },
  {
   "cell_type": "markdown",
   "id": "ecac2f5a",
   "metadata": {
    "papermill": {
     "duration": 0.006788,
     "end_time": "2022-11-24T19:01:09.737514",
     "exception": false,
     "start_time": "2022-11-24T19:01:09.730726",
     "status": "completed"
    },
    "tags": []
   },
   "source": [
    "## GÖREV 1: Aşağıdaki soruları yanıtlayınız.\n"
   ]
  },
  {
   "cell_type": "code",
   "execution_count": 3,
   "id": "b063f149",
   "metadata": {
    "execution": {
     "iopub.execute_input": "2022-11-24T19:01:09.751364Z",
     "iopub.status.busy": "2022-11-24T19:01:09.751030Z",
     "iopub.status.idle": "2022-11-24T19:01:09.793695Z",
     "shell.execute_reply": "2022-11-24T19:01:09.792291Z"
    },
    "papermill": {
     "duration": 0.053192,
     "end_time": "2022-11-24T19:01:09.796862",
     "exception": false,
     "start_time": "2022-11-24T19:01:09.743670",
     "status": "completed"
    },
    "tags": []
   },
   "outputs": [
    {
     "data": {
      "text/html": [
       "<div>\n",
       "<style scoped>\n",
       "    .dataframe tbody tr th:only-of-type {\n",
       "        vertical-align: middle;\n",
       "    }\n",
       "\n",
       "    .dataframe tbody tr th {\n",
       "        vertical-align: top;\n",
       "    }\n",
       "\n",
       "    .dataframe thead th {\n",
       "        text-align: right;\n",
       "    }\n",
       "</style>\n",
       "<table border=\"1\" class=\"dataframe\">\n",
       "  <thead>\n",
       "    <tr style=\"text-align: right;\">\n",
       "      <th></th>\n",
       "      <th>PRICE</th>\n",
       "      <th>SOURCE</th>\n",
       "      <th>SEX</th>\n",
       "      <th>COUNTRY</th>\n",
       "      <th>AGE</th>\n",
       "    </tr>\n",
       "  </thead>\n",
       "  <tbody>\n",
       "    <tr>\n",
       "      <th>0</th>\n",
       "      <td>39</td>\n",
       "      <td>android</td>\n",
       "      <td>male</td>\n",
       "      <td>bra</td>\n",
       "      <td>17</td>\n",
       "    </tr>\n",
       "    <tr>\n",
       "      <th>1</th>\n",
       "      <td>39</td>\n",
       "      <td>android</td>\n",
       "      <td>male</td>\n",
       "      <td>bra</td>\n",
       "      <td>17</td>\n",
       "    </tr>\n",
       "    <tr>\n",
       "      <th>2</th>\n",
       "      <td>49</td>\n",
       "      <td>android</td>\n",
       "      <td>male</td>\n",
       "      <td>bra</td>\n",
       "      <td>17</td>\n",
       "    </tr>\n",
       "    <tr>\n",
       "      <th>3</th>\n",
       "      <td>29</td>\n",
       "      <td>android</td>\n",
       "      <td>male</td>\n",
       "      <td>tur</td>\n",
       "      <td>17</td>\n",
       "    </tr>\n",
       "    <tr>\n",
       "      <th>4</th>\n",
       "      <td>49</td>\n",
       "      <td>android</td>\n",
       "      <td>male</td>\n",
       "      <td>tur</td>\n",
       "      <td>17</td>\n",
       "    </tr>\n",
       "  </tbody>\n",
       "</table>\n",
       "</div>"
      ],
      "text/plain": [
       "   PRICE   SOURCE   SEX COUNTRY  AGE\n",
       "0     39  android  male     bra   17\n",
       "1     39  android  male     bra   17\n",
       "2     49  android  male     bra   17\n",
       "3     29  android  male     tur   17\n",
       "4     49  android  male     tur   17"
      ]
     },
     "execution_count": 3,
     "metadata": {},
     "output_type": "execute_result"
    }
   ],
   "source": [
    "# Soru 1: persona.csv dosyasını okutunuz ve veri seti ile ilgili genel bilgileri gösteriniz.\n",
    "\n",
    "import pandas as pd \n",
    "df = pd.read_csv(\"/kaggle/input/personacsv/Kural Tabanlı Sınıflandırma/persona.csv\")\n",
    "df.shape\n",
    "df.head()"
   ]
  },
  {
   "cell_type": "code",
   "execution_count": 4,
   "id": "75839745",
   "metadata": {
    "execution": {
     "iopub.execute_input": "2022-11-24T19:01:09.811027Z",
     "iopub.status.busy": "2022-11-24T19:01:09.810697Z",
     "iopub.status.idle": "2022-11-24T19:01:09.828044Z",
     "shell.execute_reply": "2022-11-24T19:01:09.826663Z"
    },
    "papermill": {
     "duration": 0.027124,
     "end_time": "2022-11-24T19:01:09.830313",
     "exception": false,
     "start_time": "2022-11-24T19:01:09.803189",
     "status": "completed"
    },
    "tags": []
   },
   "outputs": [
    {
     "data": {
      "text/plain": [
       "android    2974\n",
       "ios        2026\n",
       "Name: SOURCE, dtype: int64"
      ]
     },
     "execution_count": 4,
     "metadata": {},
     "output_type": "execute_result"
    }
   ],
   "source": [
    "# Soru 2: Kaç unique SOURCE vardır? Frekansları nedir?\n",
    "\n",
    "df[\"SOURCE\"].nunique()\n",
    "df[\"SOURCE\"].value_counts()"
   ]
  },
  {
   "cell_type": "code",
   "execution_count": 5,
   "id": "a8e1787a",
   "metadata": {
    "execution": {
     "iopub.execute_input": "2022-11-24T19:01:09.844175Z",
     "iopub.status.busy": "2022-11-24T19:01:09.843669Z",
     "iopub.status.idle": "2022-11-24T19:01:09.851928Z",
     "shell.execute_reply": "2022-11-24T19:01:09.850815Z"
    },
    "papermill": {
     "duration": 0.017239,
     "end_time": "2022-11-24T19:01:09.853766",
     "exception": false,
     "start_time": "2022-11-24T19:01:09.836527",
     "status": "completed"
    },
    "tags": []
   },
   "outputs": [
    {
     "data": {
      "text/plain": [
       "6"
      ]
     },
     "execution_count": 5,
     "metadata": {},
     "output_type": "execute_result"
    }
   ],
   "source": [
    "# Soru 3: Kaç unique PRICE vardır?\n",
    "\n",
    "df[\"PRICE\"].nunique()"
   ]
  },
  {
   "cell_type": "code",
   "execution_count": 6,
   "id": "6031f476",
   "metadata": {
    "execution": {
     "iopub.execute_input": "2022-11-24T19:01:09.868356Z",
     "iopub.status.busy": "2022-11-24T19:01:09.867353Z",
     "iopub.status.idle": "2022-11-24T19:01:09.875687Z",
     "shell.execute_reply": "2022-11-24T19:01:09.874683Z"
    },
    "papermill": {
     "duration": 0.017418,
     "end_time": "2022-11-24T19:01:09.877473",
     "exception": false,
     "start_time": "2022-11-24T19:01:09.860055",
     "status": "completed"
    },
    "tags": []
   },
   "outputs": [
    {
     "data": {
      "text/plain": [
       "29    1305\n",
       "39    1260\n",
       "49    1031\n",
       "19     992\n",
       "59     212\n",
       "9      200\n",
       "Name: PRICE, dtype: int64"
      ]
     },
     "execution_count": 6,
     "metadata": {},
     "output_type": "execute_result"
    }
   ],
   "source": [
    "# Soru 4: Hangi PRICE'dan kaçar tane satış gerçekleşmiş?\n",
    "\n",
    "df[\"PRICE\"].value_counts()"
   ]
  },
  {
   "cell_type": "code",
   "execution_count": 7,
   "id": "a72fb5a6",
   "metadata": {
    "execution": {
     "iopub.execute_input": "2022-11-24T19:01:09.891743Z",
     "iopub.status.busy": "2022-11-24T19:01:09.891429Z",
     "iopub.status.idle": "2022-11-24T19:01:09.899605Z",
     "shell.execute_reply": "2022-11-24T19:01:09.898443Z"
    },
    "papermill": {
     "duration": 0.017697,
     "end_time": "2022-11-24T19:01:09.901431",
     "exception": false,
     "start_time": "2022-11-24T19:01:09.883734",
     "status": "completed"
    },
    "tags": []
   },
   "outputs": [
    {
     "data": {
      "text/plain": [
       "usa    2065\n",
       "bra    1496\n",
       "deu     455\n",
       "tur     451\n",
       "fra     303\n",
       "can     230\n",
       "Name: COUNTRY, dtype: int64"
      ]
     },
     "execution_count": 7,
     "metadata": {},
     "output_type": "execute_result"
    }
   ],
   "source": [
    "# Soru 5: Hangi ülkeden kaçar tane satış olmuş?\n",
    "\n",
    "df[\"COUNTRY\"].value_counts()"
   ]
  },
  {
   "cell_type": "code",
   "execution_count": 8,
   "id": "a44aa90f",
   "metadata": {
    "execution": {
     "iopub.execute_input": "2022-11-24T19:01:09.916004Z",
     "iopub.status.busy": "2022-11-24T19:01:09.915680Z",
     "iopub.status.idle": "2022-11-24T19:01:09.930713Z",
     "shell.execute_reply": "2022-11-24T19:01:09.929739Z"
    },
    "papermill": {
     "duration": 0.024224,
     "end_time": "2022-11-24T19:01:09.932265",
     "exception": false,
     "start_time": "2022-11-24T19:01:09.908041",
     "status": "completed"
    },
    "tags": []
   },
   "outputs": [
    {
     "data": {
      "text/html": [
       "<div>\n",
       "<style scoped>\n",
       "    .dataframe tbody tr th:only-of-type {\n",
       "        vertical-align: middle;\n",
       "    }\n",
       "\n",
       "    .dataframe tbody tr th {\n",
       "        vertical-align: top;\n",
       "    }\n",
       "\n",
       "    .dataframe thead th {\n",
       "        text-align: right;\n",
       "    }\n",
       "</style>\n",
       "<table border=\"1\" class=\"dataframe\">\n",
       "  <thead>\n",
       "    <tr style=\"text-align: right;\">\n",
       "      <th></th>\n",
       "      <th>PRICE</th>\n",
       "    </tr>\n",
       "    <tr>\n",
       "      <th>COUNTRY</th>\n",
       "      <th></th>\n",
       "    </tr>\n",
       "  </thead>\n",
       "  <tbody>\n",
       "    <tr>\n",
       "      <th>bra</th>\n",
       "      <td>51354</td>\n",
       "    </tr>\n",
       "    <tr>\n",
       "      <th>can</th>\n",
       "      <td>7730</td>\n",
       "    </tr>\n",
       "    <tr>\n",
       "      <th>deu</th>\n",
       "      <td>15485</td>\n",
       "    </tr>\n",
       "    <tr>\n",
       "      <th>fra</th>\n",
       "      <td>10177</td>\n",
       "    </tr>\n",
       "    <tr>\n",
       "      <th>tur</th>\n",
       "      <td>15689</td>\n",
       "    </tr>\n",
       "    <tr>\n",
       "      <th>usa</th>\n",
       "      <td>70225</td>\n",
       "    </tr>\n",
       "  </tbody>\n",
       "</table>\n",
       "</div>"
      ],
      "text/plain": [
       "         PRICE\n",
       "COUNTRY       \n",
       "bra      51354\n",
       "can       7730\n",
       "deu      15485\n",
       "fra      10177\n",
       "tur      15689\n",
       "usa      70225"
      ]
     },
     "execution_count": 8,
     "metadata": {},
     "output_type": "execute_result"
    }
   ],
   "source": [
    "# Soru 6: Ülkelere göre satışlardan toplam ne kadar kazanılmış?\n",
    "\n",
    "df.groupby(\"COUNTRY\").agg({\"PRICE\": \"sum\"})"
   ]
  },
  {
   "cell_type": "code",
   "execution_count": 9,
   "id": "df6f5d63",
   "metadata": {
    "execution": {
     "iopub.execute_input": "2022-11-24T19:01:09.947444Z",
     "iopub.status.busy": "2022-11-24T19:01:09.947100Z",
     "iopub.status.idle": "2022-11-24T19:01:09.955601Z",
     "shell.execute_reply": "2022-11-24T19:01:09.954284Z"
    },
    "papermill": {
     "duration": 0.018098,
     "end_time": "2022-11-24T19:01:09.957352",
     "exception": false,
     "start_time": "2022-11-24T19:01:09.939254",
     "status": "completed"
    },
    "tags": []
   },
   "outputs": [
    {
     "data": {
      "text/plain": [
       "android    2974\n",
       "ios        2026\n",
       "Name: SOURCE, dtype: int64"
      ]
     },
     "execution_count": 9,
     "metadata": {},
     "output_type": "execute_result"
    }
   ],
   "source": [
    "# Soru 7: SOURCE türlerine göre göre satış sayıları nedir?\n",
    "\n",
    "df[\"SOURCE\"].value_counts()"
   ]
  },
  {
   "cell_type": "code",
   "execution_count": 10,
   "id": "9a2f93a4",
   "metadata": {
    "execution": {
     "iopub.execute_input": "2022-11-24T19:01:09.972008Z",
     "iopub.status.busy": "2022-11-24T19:01:09.971719Z",
     "iopub.status.idle": "2022-11-24T19:01:09.984157Z",
     "shell.execute_reply": "2022-11-24T19:01:09.983266Z"
    },
    "papermill": {
     "duration": 0.022642,
     "end_time": "2022-11-24T19:01:09.986558",
     "exception": false,
     "start_time": "2022-11-24T19:01:09.963916",
     "status": "completed"
    },
    "tags": []
   },
   "outputs": [
    {
     "data": {
      "text/html": [
       "<div>\n",
       "<style scoped>\n",
       "    .dataframe tbody tr th:only-of-type {\n",
       "        vertical-align: middle;\n",
       "    }\n",
       "\n",
       "    .dataframe tbody tr th {\n",
       "        vertical-align: top;\n",
       "    }\n",
       "\n",
       "    .dataframe thead th {\n",
       "        text-align: right;\n",
       "    }\n",
       "</style>\n",
       "<table border=\"1\" class=\"dataframe\">\n",
       "  <thead>\n",
       "    <tr style=\"text-align: right;\">\n",
       "      <th></th>\n",
       "      <th>PRICE</th>\n",
       "    </tr>\n",
       "    <tr>\n",
       "      <th>COUNTRY</th>\n",
       "      <th></th>\n",
       "    </tr>\n",
       "  </thead>\n",
       "  <tbody>\n",
       "    <tr>\n",
       "      <th>bra</th>\n",
       "      <td>34.327540</td>\n",
       "    </tr>\n",
       "    <tr>\n",
       "      <th>can</th>\n",
       "      <td>33.608696</td>\n",
       "    </tr>\n",
       "    <tr>\n",
       "      <th>deu</th>\n",
       "      <td>34.032967</td>\n",
       "    </tr>\n",
       "    <tr>\n",
       "      <th>fra</th>\n",
       "      <td>33.587459</td>\n",
       "    </tr>\n",
       "    <tr>\n",
       "      <th>tur</th>\n",
       "      <td>34.787140</td>\n",
       "    </tr>\n",
       "    <tr>\n",
       "      <th>usa</th>\n",
       "      <td>34.007264</td>\n",
       "    </tr>\n",
       "  </tbody>\n",
       "</table>\n",
       "</div>"
      ],
      "text/plain": [
       "             PRICE\n",
       "COUNTRY           \n",
       "bra      34.327540\n",
       "can      33.608696\n",
       "deu      34.032967\n",
       "fra      33.587459\n",
       "tur      34.787140\n",
       "usa      34.007264"
      ]
     },
     "execution_count": 10,
     "metadata": {},
     "output_type": "execute_result"
    }
   ],
   "source": [
    "# Soru 8: Ülkelere göre PRICE ortalamaları nedir?\n",
    "\n",
    "df.groupby(\"COUNTRY\").agg({\"PRICE\": \"mean\"})"
   ]
  },
  {
   "cell_type": "code",
   "execution_count": 11,
   "id": "500a5d93",
   "metadata": {
    "execution": {
     "iopub.execute_input": "2022-11-24T19:01:10.002402Z",
     "iopub.status.busy": "2022-11-24T19:01:10.002035Z",
     "iopub.status.idle": "2022-11-24T19:01:10.012388Z",
     "shell.execute_reply": "2022-11-24T19:01:10.011278Z"
    },
    "papermill": {
     "duration": 0.020924,
     "end_time": "2022-11-24T19:01:10.014468",
     "exception": false,
     "start_time": "2022-11-24T19:01:09.993544",
     "status": "completed"
    },
    "tags": []
   },
   "outputs": [
    {
     "data": {
      "text/html": [
       "<div>\n",
       "<style scoped>\n",
       "    .dataframe tbody tr th:only-of-type {\n",
       "        vertical-align: middle;\n",
       "    }\n",
       "\n",
       "    .dataframe tbody tr th {\n",
       "        vertical-align: top;\n",
       "    }\n",
       "\n",
       "    .dataframe thead th {\n",
       "        text-align: right;\n",
       "    }\n",
       "</style>\n",
       "<table border=\"1\" class=\"dataframe\">\n",
       "  <thead>\n",
       "    <tr style=\"text-align: right;\">\n",
       "      <th></th>\n",
       "      <th>PRICE</th>\n",
       "    </tr>\n",
       "    <tr>\n",
       "      <th>SOURCE</th>\n",
       "      <th></th>\n",
       "    </tr>\n",
       "  </thead>\n",
       "  <tbody>\n",
       "    <tr>\n",
       "      <th>android</th>\n",
       "      <td>34.174849</td>\n",
       "    </tr>\n",
       "    <tr>\n",
       "      <th>ios</th>\n",
       "      <td>34.069102</td>\n",
       "    </tr>\n",
       "  </tbody>\n",
       "</table>\n",
       "</div>"
      ],
      "text/plain": [
       "             PRICE\n",
       "SOURCE            \n",
       "android  34.174849\n",
       "ios      34.069102"
      ]
     },
     "execution_count": 11,
     "metadata": {},
     "output_type": "execute_result"
    }
   ],
   "source": [
    "# Soru 9: SOURCE'lara göre PRICE ortalamaları nedir?\n",
    "\n",
    "df.groupby(\"SOURCE\").agg({\"PRICE\": \"mean\"})"
   ]
  },
  {
   "cell_type": "code",
   "execution_count": 12,
   "id": "459031af",
   "metadata": {
    "execution": {
     "iopub.execute_input": "2022-11-24T19:01:10.030198Z",
     "iopub.status.busy": "2022-11-24T19:01:10.029783Z",
     "iopub.status.idle": "2022-11-24T19:01:10.045682Z",
     "shell.execute_reply": "2022-11-24T19:01:10.043819Z"
    },
    "papermill": {
     "duration": 0.026435,
     "end_time": "2022-11-24T19:01:10.048095",
     "exception": false,
     "start_time": "2022-11-24T19:01:10.021660",
     "status": "completed"
    },
    "tags": []
   },
   "outputs": [
    {
     "data": {
      "text/html": [
       "<div>\n",
       "<style scoped>\n",
       "    .dataframe tbody tr th:only-of-type {\n",
       "        vertical-align: middle;\n",
       "    }\n",
       "\n",
       "    .dataframe tbody tr th {\n",
       "        vertical-align: top;\n",
       "    }\n",
       "\n",
       "    .dataframe thead th {\n",
       "        text-align: right;\n",
       "    }\n",
       "</style>\n",
       "<table border=\"1\" class=\"dataframe\">\n",
       "  <thead>\n",
       "    <tr style=\"text-align: right;\">\n",
       "      <th></th>\n",
       "      <th></th>\n",
       "      <th>PRICE</th>\n",
       "    </tr>\n",
       "    <tr>\n",
       "      <th>COUNTRY</th>\n",
       "      <th>SOURCE</th>\n",
       "      <th></th>\n",
       "    </tr>\n",
       "  </thead>\n",
       "  <tbody>\n",
       "    <tr>\n",
       "      <th rowspan=\"2\" valign=\"top\">bra</th>\n",
       "      <th>android</th>\n",
       "      <td>34.387029</td>\n",
       "    </tr>\n",
       "    <tr>\n",
       "      <th>ios</th>\n",
       "      <td>34.222222</td>\n",
       "    </tr>\n",
       "    <tr>\n",
       "      <th rowspan=\"2\" valign=\"top\">can</th>\n",
       "      <th>android</th>\n",
       "      <td>33.330709</td>\n",
       "    </tr>\n",
       "    <tr>\n",
       "      <th>ios</th>\n",
       "      <td>33.951456</td>\n",
       "    </tr>\n",
       "    <tr>\n",
       "      <th rowspan=\"2\" valign=\"top\">deu</th>\n",
       "      <th>android</th>\n",
       "      <td>33.869888</td>\n",
       "    </tr>\n",
       "    <tr>\n",
       "      <th>ios</th>\n",
       "      <td>34.268817</td>\n",
       "    </tr>\n",
       "    <tr>\n",
       "      <th rowspan=\"2\" valign=\"top\">fra</th>\n",
       "      <th>android</th>\n",
       "      <td>34.312500</td>\n",
       "    </tr>\n",
       "    <tr>\n",
       "      <th>ios</th>\n",
       "      <td>32.776224</td>\n",
       "    </tr>\n",
       "    <tr>\n",
       "      <th rowspan=\"2\" valign=\"top\">tur</th>\n",
       "      <th>android</th>\n",
       "      <td>36.229437</td>\n",
       "    </tr>\n",
       "    <tr>\n",
       "      <th>ios</th>\n",
       "      <td>33.272727</td>\n",
       "    </tr>\n",
       "    <tr>\n",
       "      <th rowspan=\"2\" valign=\"top\">usa</th>\n",
       "      <th>android</th>\n",
       "      <td>33.760357</td>\n",
       "    </tr>\n",
       "    <tr>\n",
       "      <th>ios</th>\n",
       "      <td>34.371703</td>\n",
       "    </tr>\n",
       "  </tbody>\n",
       "</table>\n",
       "</div>"
      ],
      "text/plain": [
       "                     PRICE\n",
       "COUNTRY SOURCE            \n",
       "bra     android  34.387029\n",
       "        ios      34.222222\n",
       "can     android  33.330709\n",
       "        ios      33.951456\n",
       "deu     android  33.869888\n",
       "        ios      34.268817\n",
       "fra     android  34.312500\n",
       "        ios      32.776224\n",
       "tur     android  36.229437\n",
       "        ios      33.272727\n",
       "usa     android  33.760357\n",
       "        ios      34.371703"
      ]
     },
     "execution_count": 12,
     "metadata": {},
     "output_type": "execute_result"
    }
   ],
   "source": [
    "# Soru 10: COUNTRY-SOURCE kırılımında PRICE ortalamaları nedir?\n",
    "\n",
    "df.groupby([\"COUNTRY\", \"SOURCE\"]).agg({\"PRICE\": \"mean\"})"
   ]
  },
  {
   "cell_type": "markdown",
   "id": "704e6fbc",
   "metadata": {
    "papermill": {
     "duration": 0.007191,
     "end_time": "2022-11-24T19:01:10.062714",
     "exception": false,
     "start_time": "2022-11-24T19:01:10.055523",
     "status": "completed"
    },
    "tags": []
   },
   "source": [
    "## GÖREV 2: COUNTRY, SOURCE, SEX, AGE kırılımında ortalama kazançlar nedir?"
   ]
  },
  {
   "cell_type": "code",
   "execution_count": 13,
   "id": "22e89d0a",
   "metadata": {
    "execution": {
     "iopub.execute_input": "2022-11-24T19:01:10.078850Z",
     "iopub.status.busy": "2022-11-24T19:01:10.078544Z",
     "iopub.status.idle": "2022-11-24T19:01:10.099746Z",
     "shell.execute_reply": "2022-11-24T19:01:10.097838Z"
    },
    "papermill": {
     "duration": 0.032501,
     "end_time": "2022-11-24T19:01:10.102552",
     "exception": false,
     "start_time": "2022-11-24T19:01:10.070051",
     "status": "completed"
    },
    "tags": []
   },
   "outputs": [
    {
     "data": {
      "text/html": [
       "<div>\n",
       "<style scoped>\n",
       "    .dataframe tbody tr th:only-of-type {\n",
       "        vertical-align: middle;\n",
       "    }\n",
       "\n",
       "    .dataframe tbody tr th {\n",
       "        vertical-align: top;\n",
       "    }\n",
       "\n",
       "    .dataframe thead th {\n",
       "        text-align: right;\n",
       "    }\n",
       "</style>\n",
       "<table border=\"1\" class=\"dataframe\">\n",
       "  <thead>\n",
       "    <tr style=\"text-align: right;\">\n",
       "      <th></th>\n",
       "      <th></th>\n",
       "      <th></th>\n",
       "      <th></th>\n",
       "      <th>PRICE</th>\n",
       "    </tr>\n",
       "    <tr>\n",
       "      <th>COUNTRY</th>\n",
       "      <th>SOURCE</th>\n",
       "      <th>SEX</th>\n",
       "      <th>AGE</th>\n",
       "      <th></th>\n",
       "    </tr>\n",
       "  </thead>\n",
       "  <tbody>\n",
       "    <tr>\n",
       "      <th rowspan=\"5\" valign=\"top\">bra</th>\n",
       "      <th rowspan=\"5\" valign=\"top\">android</th>\n",
       "      <th rowspan=\"5\" valign=\"top\">female</th>\n",
       "      <th>15</th>\n",
       "      <td>38.714286</td>\n",
       "    </tr>\n",
       "    <tr>\n",
       "      <th>16</th>\n",
       "      <td>35.944444</td>\n",
       "    </tr>\n",
       "    <tr>\n",
       "      <th>17</th>\n",
       "      <td>35.666667</td>\n",
       "    </tr>\n",
       "    <tr>\n",
       "      <th>18</th>\n",
       "      <td>32.255814</td>\n",
       "    </tr>\n",
       "    <tr>\n",
       "      <th>19</th>\n",
       "      <td>35.206897</td>\n",
       "    </tr>\n",
       "    <tr>\n",
       "      <th>...</th>\n",
       "      <th>...</th>\n",
       "      <th>...</th>\n",
       "      <th>...</th>\n",
       "      <td>...</td>\n",
       "    </tr>\n",
       "    <tr>\n",
       "      <th rowspan=\"5\" valign=\"top\">usa</th>\n",
       "      <th rowspan=\"5\" valign=\"top\">ios</th>\n",
       "      <th rowspan=\"5\" valign=\"top\">male</th>\n",
       "      <th>42</th>\n",
       "      <td>30.250000</td>\n",
       "    </tr>\n",
       "    <tr>\n",
       "      <th>50</th>\n",
       "      <td>39.000000</td>\n",
       "    </tr>\n",
       "    <tr>\n",
       "      <th>53</th>\n",
       "      <td>34.000000</td>\n",
       "    </tr>\n",
       "    <tr>\n",
       "      <th>55</th>\n",
       "      <td>29.000000</td>\n",
       "    </tr>\n",
       "    <tr>\n",
       "      <th>59</th>\n",
       "      <td>46.500000</td>\n",
       "    </tr>\n",
       "  </tbody>\n",
       "</table>\n",
       "<p>348 rows × 1 columns</p>\n",
       "</div>"
      ],
      "text/plain": [
       "                                PRICE\n",
       "COUNTRY SOURCE  SEX    AGE           \n",
       "bra     android female 15   38.714286\n",
       "                       16   35.944444\n",
       "                       17   35.666667\n",
       "                       18   32.255814\n",
       "                       19   35.206897\n",
       "...                               ...\n",
       "usa     ios     male   42   30.250000\n",
       "                       50   39.000000\n",
       "                       53   34.000000\n",
       "                       55   29.000000\n",
       "                       59   46.500000\n",
       "\n",
       "[348 rows x 1 columns]"
      ]
     },
     "execution_count": 13,
     "metadata": {},
     "output_type": "execute_result"
    }
   ],
   "source": [
    "df.groupby([\"COUNTRY\", \"SOURCE\", \"SEX\", \"AGE\"]).agg({\"PRICE\": \"mean\"})\n"
   ]
  },
  {
   "cell_type": "markdown",
   "id": "9f8746d5",
   "metadata": {
    "papermill": {
     "duration": 0.007001,
     "end_time": "2022-11-24T19:01:10.117036",
     "exception": false,
     "start_time": "2022-11-24T19:01:10.110035",
     "status": "completed"
    },
    "tags": []
   },
   "source": [
    "## GÖREV 3: Çıktıyı PRICE'a göre sıralayınız."
   ]
  },
  {
   "cell_type": "code",
   "execution_count": 14,
   "id": "62498d16",
   "metadata": {
    "execution": {
     "iopub.execute_input": "2022-11-24T19:01:10.133855Z",
     "iopub.status.busy": "2022-11-24T19:01:10.133106Z",
     "iopub.status.idle": "2022-11-24T19:01:10.152457Z",
     "shell.execute_reply": "2022-11-24T19:01:10.150959Z"
    },
    "papermill": {
     "duration": 0.030067,
     "end_time": "2022-11-24T19:01:10.154400",
     "exception": false,
     "start_time": "2022-11-24T19:01:10.124333",
     "status": "completed"
    },
    "tags": []
   },
   "outputs": [
    {
     "data": {
      "text/html": [
       "<div>\n",
       "<style scoped>\n",
       "    .dataframe tbody tr th:only-of-type {\n",
       "        vertical-align: middle;\n",
       "    }\n",
       "\n",
       "    .dataframe tbody tr th {\n",
       "        vertical-align: top;\n",
       "    }\n",
       "\n",
       "    .dataframe thead th {\n",
       "        text-align: right;\n",
       "    }\n",
       "</style>\n",
       "<table border=\"1\" class=\"dataframe\">\n",
       "  <thead>\n",
       "    <tr style=\"text-align: right;\">\n",
       "      <th></th>\n",
       "      <th></th>\n",
       "      <th></th>\n",
       "      <th></th>\n",
       "      <th>PRICE</th>\n",
       "    </tr>\n",
       "    <tr>\n",
       "      <th>COUNTRY</th>\n",
       "      <th>SOURCE</th>\n",
       "      <th>SEX</th>\n",
       "      <th>AGE</th>\n",
       "      <th></th>\n",
       "    </tr>\n",
       "  </thead>\n",
       "  <tbody>\n",
       "    <tr>\n",
       "      <th>bra</th>\n",
       "      <th>android</th>\n",
       "      <th>male</th>\n",
       "      <th>46</th>\n",
       "      <td>59.0</td>\n",
       "    </tr>\n",
       "    <tr>\n",
       "      <th>usa</th>\n",
       "      <th>android</th>\n",
       "      <th>male</th>\n",
       "      <th>36</th>\n",
       "      <td>59.0</td>\n",
       "    </tr>\n",
       "    <tr>\n",
       "      <th>fra</th>\n",
       "      <th>android</th>\n",
       "      <th>female</th>\n",
       "      <th>24</th>\n",
       "      <td>59.0</td>\n",
       "    </tr>\n",
       "    <tr>\n",
       "      <th>usa</th>\n",
       "      <th>ios</th>\n",
       "      <th>male</th>\n",
       "      <th>32</th>\n",
       "      <td>54.0</td>\n",
       "    </tr>\n",
       "    <tr>\n",
       "      <th>deu</th>\n",
       "      <th>android</th>\n",
       "      <th>female</th>\n",
       "      <th>36</th>\n",
       "      <td>49.0</td>\n",
       "    </tr>\n",
       "  </tbody>\n",
       "</table>\n",
       "</div>"
      ],
      "text/plain": [
       "                            PRICE\n",
       "COUNTRY SOURCE  SEX    AGE       \n",
       "bra     android male   46    59.0\n",
       "usa     android male   36    59.0\n",
       "fra     android female 24    59.0\n",
       "usa     ios     male   32    54.0\n",
       "deu     android female 36    49.0"
      ]
     },
     "execution_count": 14,
     "metadata": {},
     "output_type": "execute_result"
    }
   ],
   "source": [
    "# Önceki sorudaki çıktıyı daha iyi görebilmek için sort_values metodunu azalan olacak şekilde PRICE'a uygulayınız.\n",
    "# Çıktıyı agg_df olarak kaydediniz.\n",
    "\n",
    "agg_df = df.groupby([\"COUNTRY\", \"SOURCE\", \"SEX\", \"AGE\"]).agg({\"PRICE\": \"mean\"}).sort_values(by=\"PRICE\", ascending=False)\n",
    "agg_df.head()"
   ]
  },
  {
   "cell_type": "markdown",
   "id": "fbad798f",
   "metadata": {
    "papermill": {
     "duration": 0.006964,
     "end_time": "2022-11-24T19:01:10.168658",
     "exception": false,
     "start_time": "2022-11-24T19:01:10.161694",
     "status": "completed"
    },
    "tags": []
   },
   "source": [
    "## GÖREV 4: Indekste yer alan isimleri değişken ismine çeviriniz.\n"
   ]
  },
  {
   "cell_type": "code",
   "execution_count": 15,
   "id": "42d77c65",
   "metadata": {
    "execution": {
     "iopub.execute_input": "2022-11-24T19:01:10.185019Z",
     "iopub.status.busy": "2022-11-24T19:01:10.184677Z",
     "iopub.status.idle": "2022-11-24T19:01:10.203312Z",
     "shell.execute_reply": "2022-11-24T19:01:10.202297Z"
    },
    "papermill": {
     "duration": 0.029506,
     "end_time": "2022-11-24T19:01:10.205552",
     "exception": false,
     "start_time": "2022-11-24T19:01:10.176046",
     "status": "completed"
    },
    "tags": []
   },
   "outputs": [
    {
     "data": {
      "text/html": [
       "<div>\n",
       "<style scoped>\n",
       "    .dataframe tbody tr th:only-of-type {\n",
       "        vertical-align: middle;\n",
       "    }\n",
       "\n",
       "    .dataframe tbody tr th {\n",
       "        vertical-align: top;\n",
       "    }\n",
       "\n",
       "    .dataframe thead th {\n",
       "        text-align: right;\n",
       "    }\n",
       "</style>\n",
       "<table border=\"1\" class=\"dataframe\">\n",
       "  <thead>\n",
       "    <tr style=\"text-align: right;\">\n",
       "      <th></th>\n",
       "      <th>COUNTRY</th>\n",
       "      <th>SOURCE</th>\n",
       "      <th>SEX</th>\n",
       "      <th>AGE</th>\n",
       "      <th>PRICE</th>\n",
       "    </tr>\n",
       "  </thead>\n",
       "  <tbody>\n",
       "    <tr>\n",
       "      <th>0</th>\n",
       "      <td>bra</td>\n",
       "      <td>android</td>\n",
       "      <td>male</td>\n",
       "      <td>46</td>\n",
       "      <td>59.0</td>\n",
       "    </tr>\n",
       "    <tr>\n",
       "      <th>1</th>\n",
       "      <td>usa</td>\n",
       "      <td>android</td>\n",
       "      <td>male</td>\n",
       "      <td>36</td>\n",
       "      <td>59.0</td>\n",
       "    </tr>\n",
       "    <tr>\n",
       "      <th>2</th>\n",
       "      <td>fra</td>\n",
       "      <td>android</td>\n",
       "      <td>female</td>\n",
       "      <td>24</td>\n",
       "      <td>59.0</td>\n",
       "    </tr>\n",
       "    <tr>\n",
       "      <th>3</th>\n",
       "      <td>usa</td>\n",
       "      <td>ios</td>\n",
       "      <td>male</td>\n",
       "      <td>32</td>\n",
       "      <td>54.0</td>\n",
       "    </tr>\n",
       "    <tr>\n",
       "      <th>4</th>\n",
       "      <td>deu</td>\n",
       "      <td>android</td>\n",
       "      <td>female</td>\n",
       "      <td>36</td>\n",
       "      <td>49.0</td>\n",
       "    </tr>\n",
       "    <tr>\n",
       "      <th>...</th>\n",
       "      <td>...</td>\n",
       "      <td>...</td>\n",
       "      <td>...</td>\n",
       "      <td>...</td>\n",
       "      <td>...</td>\n",
       "    </tr>\n",
       "    <tr>\n",
       "      <th>343</th>\n",
       "      <td>usa</td>\n",
       "      <td>ios</td>\n",
       "      <td>female</td>\n",
       "      <td>38</td>\n",
       "      <td>19.0</td>\n",
       "    </tr>\n",
       "    <tr>\n",
       "      <th>344</th>\n",
       "      <td>usa</td>\n",
       "      <td>ios</td>\n",
       "      <td>female</td>\n",
       "      <td>30</td>\n",
       "      <td>19.0</td>\n",
       "    </tr>\n",
       "    <tr>\n",
       "      <th>345</th>\n",
       "      <td>can</td>\n",
       "      <td>android</td>\n",
       "      <td>female</td>\n",
       "      <td>27</td>\n",
       "      <td>19.0</td>\n",
       "    </tr>\n",
       "    <tr>\n",
       "      <th>346</th>\n",
       "      <td>fra</td>\n",
       "      <td>android</td>\n",
       "      <td>male</td>\n",
       "      <td>18</td>\n",
       "      <td>19.0</td>\n",
       "    </tr>\n",
       "    <tr>\n",
       "      <th>347</th>\n",
       "      <td>deu</td>\n",
       "      <td>android</td>\n",
       "      <td>male</td>\n",
       "      <td>26</td>\n",
       "      <td>9.0</td>\n",
       "    </tr>\n",
       "  </tbody>\n",
       "</table>\n",
       "<p>348 rows × 5 columns</p>\n",
       "</div>"
      ],
      "text/plain": [
       "    COUNTRY   SOURCE     SEX  AGE  PRICE\n",
       "0       bra  android    male   46   59.0\n",
       "1       usa  android    male   36   59.0\n",
       "2       fra  android  female   24   59.0\n",
       "3       usa      ios    male   32   54.0\n",
       "4       deu  android  female   36   49.0\n",
       "..      ...      ...     ...  ...    ...\n",
       "343     usa      ios  female   38   19.0\n",
       "344     usa      ios  female   30   19.0\n",
       "345     can  android  female   27   19.0\n",
       "346     fra  android    male   18   19.0\n",
       "347     deu  android    male   26    9.0\n",
       "\n",
       "[348 rows x 5 columns]"
      ]
     },
     "execution_count": 15,
     "metadata": {},
     "output_type": "execute_result"
    }
   ],
   "source": [
    "# Üçüncü sorunun çıktısında yer alan PRICE dışındaki tüm değişkenler index isimleridir.\n",
    "# Bu isimleri değişken isimlerine çeviriniz.\n",
    "# İpucu: reset_index()\n",
    "# agg_df.reset_index(inplace=True)\n",
    "\n",
    "agg_df.reset_index(inplace=True)\n",
    "agg_df"
   ]
  },
  {
   "cell_type": "markdown",
   "id": "ced36fec",
   "metadata": {
    "papermill": {
     "duration": 0.007637,
     "end_time": "2022-11-24T19:01:10.221314",
     "exception": false,
     "start_time": "2022-11-24T19:01:10.213677",
     "status": "completed"
    },
    "tags": []
   },
   "source": [
    "## GÖREV 5: AGE değişkenini kategorik değişkene çeviriniz ve agg_df'e ekleyiniz.\n"
   ]
  },
  {
   "cell_type": "code",
   "execution_count": 16,
   "id": "b442df22",
   "metadata": {
    "execution": {
     "iopub.execute_input": "2022-11-24T19:01:10.238553Z",
     "iopub.status.busy": "2022-11-24T19:01:10.238249Z",
     "iopub.status.idle": "2022-11-24T19:01:10.253773Z",
     "shell.execute_reply": "2022-11-24T19:01:10.252860Z"
    },
    "papermill": {
     "duration": 0.026868,
     "end_time": "2022-11-24T19:01:10.256117",
     "exception": false,
     "start_time": "2022-11-24T19:01:10.229249",
     "status": "completed"
    },
    "tags": []
   },
   "outputs": [
    {
     "data": {
      "text/html": [
       "<div>\n",
       "<style scoped>\n",
       "    .dataframe tbody tr th:only-of-type {\n",
       "        vertical-align: middle;\n",
       "    }\n",
       "\n",
       "    .dataframe tbody tr th {\n",
       "        vertical-align: top;\n",
       "    }\n",
       "\n",
       "    .dataframe thead th {\n",
       "        text-align: right;\n",
       "    }\n",
       "</style>\n",
       "<table border=\"1\" class=\"dataframe\">\n",
       "  <thead>\n",
       "    <tr style=\"text-align: right;\">\n",
       "      <th></th>\n",
       "      <th>COUNTRY</th>\n",
       "      <th>SOURCE</th>\n",
       "      <th>SEX</th>\n",
       "      <th>AGE</th>\n",
       "      <th>PRICE</th>\n",
       "      <th>AGE_CAT</th>\n",
       "    </tr>\n",
       "  </thead>\n",
       "  <tbody>\n",
       "    <tr>\n",
       "      <th>0</th>\n",
       "      <td>bra</td>\n",
       "      <td>android</td>\n",
       "      <td>male</td>\n",
       "      <td>46</td>\n",
       "      <td>59.0</td>\n",
       "      <td>41_50</td>\n",
       "    </tr>\n",
       "    <tr>\n",
       "      <th>1</th>\n",
       "      <td>usa</td>\n",
       "      <td>android</td>\n",
       "      <td>male</td>\n",
       "      <td>36</td>\n",
       "      <td>59.0</td>\n",
       "      <td>31_40</td>\n",
       "    </tr>\n",
       "    <tr>\n",
       "      <th>2</th>\n",
       "      <td>fra</td>\n",
       "      <td>android</td>\n",
       "      <td>female</td>\n",
       "      <td>24</td>\n",
       "      <td>59.0</td>\n",
       "      <td>19_25</td>\n",
       "    </tr>\n",
       "    <tr>\n",
       "      <th>3</th>\n",
       "      <td>usa</td>\n",
       "      <td>ios</td>\n",
       "      <td>male</td>\n",
       "      <td>32</td>\n",
       "      <td>54.0</td>\n",
       "      <td>31_40</td>\n",
       "    </tr>\n",
       "    <tr>\n",
       "      <th>4</th>\n",
       "      <td>deu</td>\n",
       "      <td>android</td>\n",
       "      <td>female</td>\n",
       "      <td>36</td>\n",
       "      <td>49.0</td>\n",
       "      <td>31_40</td>\n",
       "    </tr>\n",
       "  </tbody>\n",
       "</table>\n",
       "</div>"
      ],
      "text/plain": [
       "  COUNTRY   SOURCE     SEX  AGE  PRICE AGE_CAT\n",
       "0     bra  android    male   46   59.0   41_50\n",
       "1     usa  android    male   36   59.0   31_40\n",
       "2     fra  android  female   24   59.0   19_25\n",
       "3     usa      ios    male   32   54.0   31_40\n",
       "4     deu  android  female   36   49.0   31_40"
      ]
     },
     "execution_count": 16,
     "metadata": {},
     "output_type": "execute_result"
    }
   ],
   "source": [
    "# Age sayısal değişkenini kategorik değişkene çeviriniz.\n",
    "# Aralıkları ikna edici olacağını düşündüğünüz şekilde oluşturunuz.\n",
    "# Örneğin: '0_18', '19_23', '24_30', '31_40', '41_70'\n",
    "\n",
    "agg_df[\"AGE\"].unique()\n",
    "agg_df[\"AGE_CAT\"] = pd.cut(agg_df[\"AGE\"], [10, 18, 25, 30, 40, 50, 60, 70], labels =[\"10_18\", \"19_25\", \"26_30\", \"31_40\", \"41_50\", \"51_60\", \"61_70\"] )\n",
    "agg_df.head()"
   ]
  },
  {
   "cell_type": "markdown",
   "id": "a688cdd6",
   "metadata": {
    "papermill": {
     "duration": 0.00762,
     "end_time": "2022-11-24T19:01:10.271884",
     "exception": false,
     "start_time": "2022-11-24T19:01:10.264264",
     "status": "completed"
    },
    "tags": []
   },
   "source": [
    "## GÖREV 6: Yeni level based müşterileri tanımlayınız ve veri setine değişken olarak ekleyiniz."
   ]
  },
  {
   "cell_type": "code",
   "execution_count": 17,
   "id": "b7560056",
   "metadata": {
    "execution": {
     "iopub.execute_input": "2022-11-24T19:01:10.289619Z",
     "iopub.status.busy": "2022-11-24T19:01:10.289256Z",
     "iopub.status.idle": "2022-11-24T19:01:10.309500Z",
     "shell.execute_reply": "2022-11-24T19:01:10.308203Z"
    },
    "papermill": {
     "duration": 0.031793,
     "end_time": "2022-11-24T19:01:10.311746",
     "exception": false,
     "start_time": "2022-11-24T19:01:10.279953",
     "status": "completed"
    },
    "tags": []
   },
   "outputs": [
    {
     "data": {
      "text/html": [
       "<div>\n",
       "<style scoped>\n",
       "    .dataframe tbody tr th:only-of-type {\n",
       "        vertical-align: middle;\n",
       "    }\n",
       "\n",
       "    .dataframe tbody tr th {\n",
       "        vertical-align: top;\n",
       "    }\n",
       "\n",
       "    .dataframe thead th {\n",
       "        text-align: right;\n",
       "    }\n",
       "</style>\n",
       "<table border=\"1\" class=\"dataframe\">\n",
       "  <thead>\n",
       "    <tr style=\"text-align: right;\">\n",
       "      <th></th>\n",
       "      <th>PRICE</th>\n",
       "    </tr>\n",
       "    <tr>\n",
       "      <th>customer_level_based</th>\n",
       "      <th></th>\n",
       "    </tr>\n",
       "  </thead>\n",
       "  <tbody>\n",
       "    <tr>\n",
       "      <th>BRA_ANDROID_FEMALE_10_18</th>\n",
       "      <td>35.645303</td>\n",
       "    </tr>\n",
       "    <tr>\n",
       "      <th>BRA_ANDROID_FEMALE_19_25</th>\n",
       "      <td>34.650481</td>\n",
       "    </tr>\n",
       "    <tr>\n",
       "      <th>BRA_ANDROID_FEMALE_26_30</th>\n",
       "      <td>32.976190</td>\n",
       "    </tr>\n",
       "    <tr>\n",
       "      <th>BRA_ANDROID_FEMALE_31_40</th>\n",
       "      <td>34.898326</td>\n",
       "    </tr>\n",
       "    <tr>\n",
       "      <th>BRA_ANDROID_FEMALE_41_50</th>\n",
       "      <td>36.649573</td>\n",
       "    </tr>\n",
       "    <tr>\n",
       "      <th>...</th>\n",
       "      <td>...</td>\n",
       "    </tr>\n",
       "    <tr>\n",
       "      <th>USA_IOS_MALE_19_25</th>\n",
       "      <td>34.140690</td>\n",
       "    </tr>\n",
       "    <tr>\n",
       "      <th>USA_IOS_MALE_26_30</th>\n",
       "      <td>35.434343</td>\n",
       "    </tr>\n",
       "    <tr>\n",
       "      <th>USA_IOS_MALE_31_40</th>\n",
       "      <td>36.206324</td>\n",
       "    </tr>\n",
       "    <tr>\n",
       "      <th>USA_IOS_MALE_41_50</th>\n",
       "      <td>34.625000</td>\n",
       "    </tr>\n",
       "    <tr>\n",
       "      <th>USA_IOS_MALE_51_60</th>\n",
       "      <td>36.500000</td>\n",
       "    </tr>\n",
       "  </tbody>\n",
       "</table>\n",
       "<p>120 rows × 1 columns</p>\n",
       "</div>"
      ],
      "text/plain": [
       "                              PRICE\n",
       "customer_level_based               \n",
       "BRA_ANDROID_FEMALE_10_18  35.645303\n",
       "BRA_ANDROID_FEMALE_19_25  34.650481\n",
       "BRA_ANDROID_FEMALE_26_30  32.976190\n",
       "BRA_ANDROID_FEMALE_31_40  34.898326\n",
       "BRA_ANDROID_FEMALE_41_50  36.649573\n",
       "...                             ...\n",
       "USA_IOS_MALE_19_25        34.140690\n",
       "USA_IOS_MALE_26_30        35.434343\n",
       "USA_IOS_MALE_31_40        36.206324\n",
       "USA_IOS_MALE_41_50        34.625000\n",
       "USA_IOS_MALE_51_60        36.500000\n",
       "\n",
       "[120 rows x 1 columns]"
      ]
     },
     "execution_count": 17,
     "metadata": {},
     "output_type": "execute_result"
    }
   ],
   "source": [
    "# customers_level_based adında bir değişken tanımlayınız ve veri setine bu değişkeni ekleyiniz.\n",
    "# Dikkat!\n",
    "# list comp ile customers_level_based değerleri oluşturulduktan sonra bu değerlerin tekilleştirilmesi gerekmektedir.\n",
    "# Örneğin birden fazla şu ifadeden olabilir: USA_ANDROID_MALE_0_18\n",
    "# Bunları groupby'a alıp price ortalamalarını almak gerekmektedir.\n",
    "agg_df[\"AGE_CAT\"] =agg_df[\"AGE_CAT\"].astype(\"object\")\n",
    "\n",
    "agg_df[\"customer_level_based\"] = agg_df[\"COUNTRY\"].apply(lambda x : x.upper()) + \"_\" \\\n",
    "                                 + agg_df[\"SOURCE\"].apply(lambda x : x.upper()) + \"_\" \\\n",
    "                                 + agg_df[\"SEX\"].apply(lambda x : x.upper()) + \"_\" \\\n",
    "                                 + agg_df[\"AGE_CAT\"].apply(lambda x : x.upper())\n",
    "\n",
    "agg_df.groupby(\"customer_level_based\").agg({\"PRICE\": \"mean\"})"
   ]
  },
  {
   "cell_type": "markdown",
   "id": "e193f3d4",
   "metadata": {
    "papermill": {
     "duration": 0.008437,
     "end_time": "2022-11-24T19:01:10.328357",
     "exception": false,
     "start_time": "2022-11-24T19:01:10.319920",
     "status": "completed"
    },
    "tags": []
   },
   "source": [
    "## GÖREV 7: Yeni müşterileri (USA_ANDROID_MALE_0_18) segmentlere ayırınız.\n"
   ]
  },
  {
   "cell_type": "code",
   "execution_count": 18,
   "id": "d70d0227",
   "metadata": {
    "execution": {
     "iopub.execute_input": "2022-11-24T19:01:10.346896Z",
     "iopub.status.busy": "2022-11-24T19:01:10.346590Z",
     "iopub.status.idle": "2022-11-24T19:01:10.363822Z",
     "shell.execute_reply": "2022-11-24T19:01:10.362687Z"
    },
    "papermill": {
     "duration": 0.029813,
     "end_time": "2022-11-24T19:01:10.366392",
     "exception": false,
     "start_time": "2022-11-24T19:01:10.336579",
     "status": "completed"
    },
    "tags": []
   },
   "outputs": [
    {
     "data": {
      "text/html": [
       "<div>\n",
       "<style scoped>\n",
       "    .dataframe tbody tr th:only-of-type {\n",
       "        vertical-align: middle;\n",
       "    }\n",
       "\n",
       "    .dataframe tbody tr th {\n",
       "        vertical-align: top;\n",
       "    }\n",
       "\n",
       "    .dataframe thead th {\n",
       "        text-align: right;\n",
       "    }\n",
       "</style>\n",
       "<table border=\"1\" class=\"dataframe\">\n",
       "  <thead>\n",
       "    <tr style=\"text-align: right;\">\n",
       "      <th></th>\n",
       "      <th>COUNTRY</th>\n",
       "      <th>SOURCE</th>\n",
       "      <th>SEX</th>\n",
       "      <th>AGE</th>\n",
       "      <th>PRICE</th>\n",
       "      <th>AGE_CAT</th>\n",
       "      <th>customer_level_based</th>\n",
       "      <th>SEGMENT</th>\n",
       "    </tr>\n",
       "  </thead>\n",
       "  <tbody>\n",
       "    <tr>\n",
       "      <th>0</th>\n",
       "      <td>bra</td>\n",
       "      <td>android</td>\n",
       "      <td>male</td>\n",
       "      <td>46</td>\n",
       "      <td>59.0</td>\n",
       "      <td>41_50</td>\n",
       "      <td>BRA_ANDROID_MALE_41_50</td>\n",
       "      <td>A</td>\n",
       "    </tr>\n",
       "    <tr>\n",
       "      <th>1</th>\n",
       "      <td>usa</td>\n",
       "      <td>android</td>\n",
       "      <td>male</td>\n",
       "      <td>36</td>\n",
       "      <td>59.0</td>\n",
       "      <td>31_40</td>\n",
       "      <td>USA_ANDROID_MALE_31_40</td>\n",
       "      <td>A</td>\n",
       "    </tr>\n",
       "    <tr>\n",
       "      <th>2</th>\n",
       "      <td>fra</td>\n",
       "      <td>android</td>\n",
       "      <td>female</td>\n",
       "      <td>24</td>\n",
       "      <td>59.0</td>\n",
       "      <td>19_25</td>\n",
       "      <td>FRA_ANDROID_FEMALE_19_25</td>\n",
       "      <td>A</td>\n",
       "    </tr>\n",
       "    <tr>\n",
       "      <th>3</th>\n",
       "      <td>usa</td>\n",
       "      <td>ios</td>\n",
       "      <td>male</td>\n",
       "      <td>32</td>\n",
       "      <td>54.0</td>\n",
       "      <td>31_40</td>\n",
       "      <td>USA_IOS_MALE_31_40</td>\n",
       "      <td>A</td>\n",
       "    </tr>\n",
       "    <tr>\n",
       "      <th>4</th>\n",
       "      <td>deu</td>\n",
       "      <td>android</td>\n",
       "      <td>female</td>\n",
       "      <td>36</td>\n",
       "      <td>49.0</td>\n",
       "      <td>31_40</td>\n",
       "      <td>DEU_ANDROID_FEMALE_31_40</td>\n",
       "      <td>A</td>\n",
       "    </tr>\n",
       "  </tbody>\n",
       "</table>\n",
       "</div>"
      ],
      "text/plain": [
       "  COUNTRY   SOURCE     SEX  AGE  PRICE AGE_CAT      customer_level_based  \\\n",
       "0     bra  android    male   46   59.0   41_50    BRA_ANDROID_MALE_41_50   \n",
       "1     usa  android    male   36   59.0   31_40    USA_ANDROID_MALE_31_40   \n",
       "2     fra  android  female   24   59.0   19_25  FRA_ANDROID_FEMALE_19_25   \n",
       "3     usa      ios    male   32   54.0   31_40        USA_IOS_MALE_31_40   \n",
       "4     deu  android  female   36   49.0   31_40  DEU_ANDROID_FEMALE_31_40   \n",
       "\n",
       "  SEGMENT  \n",
       "0       A  \n",
       "1       A  \n",
       "2       A  \n",
       "3       A  \n",
       "4       A  "
      ]
     },
     "execution_count": 18,
     "metadata": {},
     "output_type": "execute_result"
    }
   ],
   "source": [
    "# PRICE'a göre segmentlere ayırınız,\n",
    "# segmentleri \"SEGMENT\" isimlendirmesi ile agg_df'e ekleyiniz,\n",
    "# segmentleri betimleyiniz\n",
    "\n",
    "agg_df[\"SEGMENT\"] = pd.qcut(agg_df[\"PRICE\"], 4, labels=[\"D\",\"C\",\"B\",\"A\"])\n",
    "agg_df.head()\n"
   ]
  },
  {
   "cell_type": "markdown",
   "id": "6845fd5e",
   "metadata": {
    "papermill": {
     "duration": 0.008202,
     "end_time": "2022-11-24T19:01:10.383096",
     "exception": false,
     "start_time": "2022-11-24T19:01:10.374894",
     "status": "completed"
    },
    "tags": []
   },
   "source": [
    "## GÖREV 8: Yeni gelen müşterileri sınıflandırınız ne kadar gelir getirebileceğini tahmin ediniz.\n"
   ]
  },
  {
   "cell_type": "code",
   "execution_count": 19,
   "id": "22b22c7c",
   "metadata": {
    "execution": {
     "iopub.execute_input": "2022-11-24T19:01:10.401405Z",
     "iopub.status.busy": "2022-11-24T19:01:10.401062Z",
     "iopub.status.idle": "2022-11-24T19:01:10.414706Z",
     "shell.execute_reply": "2022-11-24T19:01:10.413555Z"
    },
    "papermill": {
     "duration": 0.025845,
     "end_time": "2022-11-24T19:01:10.417281",
     "exception": false,
     "start_time": "2022-11-24T19:01:10.391436",
     "status": "completed"
    },
    "tags": []
   },
   "outputs": [
    {
     "data": {
      "text/html": [
       "<div>\n",
       "<style scoped>\n",
       "    .dataframe tbody tr th:only-of-type {\n",
       "        vertical-align: middle;\n",
       "    }\n",
       "\n",
       "    .dataframe tbody tr th {\n",
       "        vertical-align: top;\n",
       "    }\n",
       "\n",
       "    .dataframe thead th {\n",
       "        text-align: right;\n",
       "    }\n",
       "</style>\n",
       "<table border=\"1\" class=\"dataframe\">\n",
       "  <thead>\n",
       "    <tr style=\"text-align: right;\">\n",
       "      <th></th>\n",
       "      <th>COUNTRY</th>\n",
       "      <th>SOURCE</th>\n",
       "      <th>SEX</th>\n",
       "      <th>AGE</th>\n",
       "      <th>PRICE</th>\n",
       "      <th>AGE_CAT</th>\n",
       "      <th>customer_level_based</th>\n",
       "      <th>SEGMENT</th>\n",
       "    </tr>\n",
       "  </thead>\n",
       "  <tbody>\n",
       "    <tr>\n",
       "      <th>18</th>\n",
       "      <td>tur</td>\n",
       "      <td>android</td>\n",
       "      <td>female</td>\n",
       "      <td>32</td>\n",
       "      <td>43.000000</td>\n",
       "      <td>31_40</td>\n",
       "      <td>TUR_ANDROID_FEMALE_31_40</td>\n",
       "      <td>A</td>\n",
       "    </tr>\n",
       "    <tr>\n",
       "      <th>35</th>\n",
       "      <td>tur</td>\n",
       "      <td>android</td>\n",
       "      <td>female</td>\n",
       "      <td>31</td>\n",
       "      <td>40.666667</td>\n",
       "      <td>31_40</td>\n",
       "      <td>TUR_ANDROID_FEMALE_31_40</td>\n",
       "      <td>A</td>\n",
       "    </tr>\n",
       "  </tbody>\n",
       "</table>\n",
       "</div>"
      ],
      "text/plain": [
       "   COUNTRY   SOURCE     SEX  AGE      PRICE AGE_CAT      customer_level_based  \\\n",
       "18     tur  android  female   32  43.000000   31_40  TUR_ANDROID_FEMALE_31_40   \n",
       "35     tur  android  female   31  40.666667   31_40  TUR_ANDROID_FEMALE_31_40   \n",
       "\n",
       "   SEGMENT  \n",
       "18       A  \n",
       "35       A  "
      ]
     },
     "execution_count": 19,
     "metadata": {},
     "output_type": "execute_result"
    }
   ],
   "source": [
    "# 33 yaşında ANDROID kullanan bir Türk kadını hangi segmente aittir ve ortalama ne kadar gelir kazandırması beklenir?\n",
    "new_user1 = \"TUR_ANDROID_FEMALE_31_40\"\n",
    "agg_df[agg_df[\"customer_level_based\"] == \"TUR_ANDROID_FEMALE_31_40\"]\n"
   ]
  },
  {
   "cell_type": "code",
   "execution_count": 20,
   "id": "ca908e99",
   "metadata": {
    "execution": {
     "iopub.execute_input": "2022-11-24T19:01:10.435425Z",
     "iopub.status.busy": "2022-11-24T19:01:10.435095Z",
     "iopub.status.idle": "2022-11-24T19:01:10.448224Z",
     "shell.execute_reply": "2022-11-24T19:01:10.446780Z"
    },
    "papermill": {
     "duration": 0.024203,
     "end_time": "2022-11-24T19:01:10.449933",
     "exception": false,
     "start_time": "2022-11-24T19:01:10.425730",
     "status": "completed"
    },
    "tags": []
   },
   "outputs": [
    {
     "data": {
      "text/html": [
       "<div>\n",
       "<style scoped>\n",
       "    .dataframe tbody tr th:only-of-type {\n",
       "        vertical-align: middle;\n",
       "    }\n",
       "\n",
       "    .dataframe tbody tr th {\n",
       "        vertical-align: top;\n",
       "    }\n",
       "\n",
       "    .dataframe thead th {\n",
       "        text-align: right;\n",
       "    }\n",
       "</style>\n",
       "<table border=\"1\" class=\"dataframe\">\n",
       "  <thead>\n",
       "    <tr style=\"text-align: right;\">\n",
       "      <th></th>\n",
       "      <th>COUNTRY</th>\n",
       "      <th>SOURCE</th>\n",
       "      <th>SEX</th>\n",
       "      <th>AGE</th>\n",
       "      <th>PRICE</th>\n",
       "      <th>AGE_CAT</th>\n",
       "      <th>customer_level_based</th>\n",
       "      <th>SEGMENT</th>\n",
       "    </tr>\n",
       "  </thead>\n",
       "  <tbody>\n",
       "    <tr>\n",
       "      <th>208</th>\n",
       "      <td>fra</td>\n",
       "      <td>ios</td>\n",
       "      <td>female</td>\n",
       "      <td>40</td>\n",
       "      <td>33.000000</td>\n",
       "      <td>31_40</td>\n",
       "      <td>FRA_IOS_FEMALE_31_40</td>\n",
       "      <td>C</td>\n",
       "    </tr>\n",
       "    <tr>\n",
       "      <th>221</th>\n",
       "      <td>fra</td>\n",
       "      <td>ios</td>\n",
       "      <td>female</td>\n",
       "      <td>31</td>\n",
       "      <td>32.636364</td>\n",
       "      <td>31_40</td>\n",
       "      <td>FRA_IOS_FEMALE_31_40</td>\n",
       "      <td>C</td>\n",
       "    </tr>\n",
       "  </tbody>\n",
       "</table>\n",
       "</div>"
      ],
      "text/plain": [
       "    COUNTRY SOURCE     SEX  AGE      PRICE AGE_CAT  customer_level_based  \\\n",
       "208     fra    ios  female   40  33.000000   31_40  FRA_IOS_FEMALE_31_40   \n",
       "221     fra    ios  female   31  32.636364   31_40  FRA_IOS_FEMALE_31_40   \n",
       "\n",
       "    SEGMENT  \n",
       "208       C  \n",
       "221       C  "
      ]
     },
     "execution_count": 20,
     "metadata": {},
     "output_type": "execute_result"
    }
   ],
   "source": [
    "# 35 yaşında IOS kullanan bir Fransız kadını hangi segmente ve ortalama ne kadar gelir kazandırması beklenir?\n",
    "new_user2 = \"FRA_IOS_FEMALE_31_40\"\n",
    "agg_df[agg_df[\"customer_level_based\"] == new_user2]"
   ]
  }
 ],
 "metadata": {
  "kernelspec": {
   "display_name": "Python 3",
   "language": "python",
   "name": "python3"
  },
  "language_info": {
   "codemirror_mode": {
    "name": "ipython",
    "version": 3
   },
   "file_extension": ".py",
   "mimetype": "text/x-python",
   "name": "python",
   "nbconvert_exporter": "python",
   "pygments_lexer": "ipython3",
   "version": "3.7.12"
  },
  "papermill": {
   "default_parameters": {},
   "duration": 10.783361,
   "end_time": "2022-11-24T19:01:11.079558",
   "environment_variables": {},
   "exception": null,
   "input_path": "__notebook__.ipynb",
   "output_path": "__notebook__.ipynb",
   "parameters": {},
   "start_time": "2022-11-24T19:01:00.296197",
   "version": "2.3.4"
  }
 },
 "nbformat": 4,
 "nbformat_minor": 5
}
